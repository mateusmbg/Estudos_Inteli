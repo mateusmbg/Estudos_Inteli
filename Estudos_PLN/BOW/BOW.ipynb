{
 "cells": [
  {
   "cell_type": "markdown",
   "metadata": {},
   "source": [
    "# **Aplicação do Bag of Words**\n",
    "\n",
    "*O Bag of Words é uma representação que transforma o texto em vetores de tamanhos fixos, contando a quantidade de vezes que cada palavra aparece*\n",
    "\n",
    "*Esse notebook foi desenvolvido com o intuito de entender como seria o funcinamento do Bag of Words dentro de frases de exemplo do auto estudo disponibilizado*\n",
    "\n",
    "<a href = \"https://towardsdatascience.com/a-simple-explanation-of-the-bag-of-words-model-b88fc4f4971\">A Simple Explanation of the Bag of Words Model</a>"
   ]
  },
  {
   "cell_type": "code",
   "execution_count": 1,
   "metadata": {},
   "outputs": [],
   "source": [
    "# importação das bibliotecas necessárias\n",
    "import nltk\n",
    "from sklearn.feature_extraction.text import CountVectorizer\n",
    "import pandas as pd\n",
    "from nltk.tokenize import WhitespaceTokenizer"
   ]
  },
  {
   "cell_type": "code",
   "execution_count": 2,
   "metadata": {},
   "outputs": [],
   "source": [
    "# definição das senteças, que serão utilizadas no exemplo de ag of Words\n",
    "sentences = {\n",
    "    \"comments\" : [\n",
    "        \"the cat sat\",\n",
    "        \"the cat sat in the hat\",\n",
    "        \"the cat with the hat\"\n",
    "    ]\n",
    "} "
   ]
  },
  {
   "cell_type": "code",
   "execution_count": 3,
   "metadata": {},
   "outputs": [],
   "source": [
    "df = pd.DataFrame(sentences)"
   ]
  },
  {
   "cell_type": "markdown",
   "metadata": {},
   "source": [
    "## **1º Passo para a aplicação do Bag of Words**\n",
    "\n",
    "*O primeiro passo para todo desenvolvimento de um modelo Bag of Words é determinar o vocabulário. A partir disso, temos os seguinte bloco de código que faz a tokenização das frases de exemplo.*\n"
   ]
  },
  {
   "cell_type": "code",
   "execution_count": 4,
   "metadata": {},
   "outputs": [
    {
     "name": "stdout",
     "output_type": "stream",
     "text": [
      "Frases antes da Tokenização {'the cat sat'}\n",
      "\n",
      "Frase após a Tokenização ['the', 'cat', 'sat']\n",
      "Frases antes da Tokenização {'the cat sat in the hat'}\n",
      "\n",
      "Frase após a Tokenização ['the', 'cat', 'sat', 'in', 'the', 'hat']\n",
      "Frases antes da Tokenização {'the cat with the hat'}\n",
      "\n",
      "Frase após a Tokenização ['the', 'cat', 'with', 'the', 'hat']\n"
     ]
    }
   ],
   "source": [
    "token_space = WhitespaceTokenizer()\n",
    "tokenized_sentences = []\n",
    "corpus = []\n",
    "\n",
    "# para cada sentença dentro do nosso dataframe ele executa o bloco de código dentro do for\n",
    "for sentence in df[\"comments\"]:\n",
    "        tokens = token_space.tokenize(sentence)\n",
    "        tokenized_sentences.append(tokens)\n",
    "        corpus.append(' '.join(tokens))\n",
    "\n",
    "        print(f'Frases antes da Tokenização', {sentence})\n",
    "        print()\n",
    "        print(f'Frase após a Tokenização', tokens)"
   ]
  },
  {
   "cell_type": "markdown",
   "metadata": {},
   "source": [
    "## **2º Passo para a aplicação do Bag of Words**\n",
    "\n",
    "*O segundo passo do Bag of Words é fazer realmente a contagem das palavras dentro das frases, utilizando uma matriz para representar a recorr~encia de cada palavra na frase inputada ou lida*"
   ]
  },
  {
   "cell_type": "code",
   "execution_count": 5,
   "metadata": {},
   "outputs": [
    {
     "name": "stdout",
     "output_type": "stream",
     "text": [
      "[[1 0 0 1 1 0]\n",
      " [1 1 1 1 2 0]\n",
      " [1 1 0 0 2 1]]\n"
     ]
    }
   ],
   "source": [
    "vectorizer = CountVectorizer()\n",
    "X = vectorizer.fit_transform(corpus)\n",
    "X_to_array = X.toarray()\n",
    "\n",
    "print(X_to_array)"
   ]
  }
 ],
 "metadata": {
  "kernelspec": {
   "display_name": "Python (BVM)",
   "language": "python",
   "name": "myenv"
  },
  "language_info": {
   "codemirror_mode": {
    "name": "ipython",
    "version": 3
   },
   "file_extension": ".py",
   "mimetype": "text/x-python",
   "name": "python",
   "nbconvert_exporter": "python",
   "pygments_lexer": "ipython3",
   "version": "3.11.1"
  }
 },
 "nbformat": 4,
 "nbformat_minor": 2
}
